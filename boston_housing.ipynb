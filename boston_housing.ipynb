{
 "cells": [
  {
   "cell_type": "markdown",
   "metadata": {},
   "source": [
    "# 机器学习工程师纳米学位\n",
    "## 模型评价与验证\n",
    "## 项目 1: 预测波士顿房价\n",
    "\n",
    "\n",
    "欢迎来到机器学习工程师纳米学位的第一个项目！在此文件中，有些示例代码已经提供给你，但你还需要实现更多的功能来让项目成功运行。除非有明确要求，你无须修改任何已给出的代码。以**编程练习**开始的标题表示接下来的内容中有需要你必须实现的功能。每一部分都会有详细的指导，需要实现的部分也会在注释中以**TODO**标出。请仔细阅读所有的提示！\n",
    "\n",
    "除了实现代码外，你还**必须**回答一些与项目和实现有关的问题。每一个需要你回答的问题都会以**'问题 X'**为标题。请仔细阅读每个问题，并且在问题后的**'回答'**文字框中写出完整的答案。你的项目将会根据你对问题的回答和撰写代码所实现的功能来进行评分。\n",
    "\n",
    ">**提示：**Code 和 Markdown 区域可通过 **Shift + Enter** 快捷键运行。此外，Markdown可以通过双击进入编辑模式。"
   ]
  },
  {
   "cell_type": "markdown",
   "metadata": {},
   "source": [
    "---\n",
    "## 第一步. 导入数据\n",
    "在这个项目中，你将利用马萨诸塞州波士顿郊区的房屋信息数据训练和测试一个模型，并对模型的性能和预测能力进行测试。通过该数据训练后的好的模型可以被用来对房屋做特定预测---尤其是对房屋的价值。对于房地产经纪等人的日常工作来说，这样的预测模型被证明非常有价值。\n",
    "\n",
    "此项目的数据集来自[UCI机器学习知识库(数据集已下线)](https://archive.ics.uci.edu/ml/datasets.html)。波士顿房屋这些数据于1978年开始统计，共506个数据点，涵盖了麻省波士顿不同郊区房屋14种特征的信息。本项目对原始数据集做了以下处理：\n",
    "- 有16个`'MEDV'` 值为50.0的数据点被移除。 这很可能是由于这些数据点包含**遗失**或**看不到的值**。\n",
    "- 有1个数据点的 `'RM'` 值为8.78. 这是一个异常值，已经被移除。\n",
    "- 对于本项目，房屋的`'RM'`， `'LSTAT'`，`'PTRATIO'`以及`'MEDV'`特征是必要的，其余不相关特征已经被移除。\n",
    "- `'MEDV'`特征的值已经过必要的数学转换，可以反映35年来市场的通货膨胀效应。\n",
    "\n",
    "运行下面区域的代码以载入波士顿房屋数据集，以及一些此项目所需的Python库。如果成功返回数据集的大小，表示数据集已载入成功。"
   ]
  },
  {
   "cell_type": "code",
   "execution_count": 1,
   "metadata": {
    "collapsed": true
   },
   "outputs": [],
   "source": [
    "# 载入此项目所需要的库\n",
    "import numpy as np\n",
    "import pandas as pd\n",
    "import visuals as vs # Supplementary code\n",
    "\n",
    "# 检查你的Python版本\n",
    "from sys import version_info\n",
    "if version_info.major != 2 and version_info.minor != 7:\n",
    "    raise Exception('请使用Python 2.7来完成此项目')\n",
    "    \n",
    "# 让结果在notebook中显示\n",
    "%matplotlib inline"
   ]
  },
  {
   "cell_type": "code",
   "execution_count": 2,
   "metadata": {},
   "outputs": [
    {
     "name": "stdout",
     "output_type": "stream",
     "text": [
      "Boston housing dataset has 489 data points with 4 variables each.\n"
     ]
    }
   ],
   "source": [
    "# 载入波士顿房屋的数据集\n",
    "data = pd.read_csv('housing.csv')\n",
    "prices = data['MEDV']\n",
    "features = data.drop('MEDV', axis = 1)\n",
    "    \n",
    "# 完成\n",
    "print \"Boston housing dataset has {} data points with {} variables each.\".format(*data.shape)"
   ]
  },
  {
   "cell_type": "markdown",
   "metadata": {},
   "source": [
    "---\n",
    "## 第二步. 分析数据\n",
    "在项目的第一个部分，你会对波士顿房地产数据进行初步的观察并给出你的分析。通过对数据的探索来熟悉数据可以让你更好地理解和解释你的结果。\n",
    "\n",
    "由于这个项目的最终目标是建立一个预测房屋价值的模型，我们需要将数据集分为**特征(features)**和**目标变量(target variable)**。\n",
    "- **特征** `'RM'`， `'LSTAT'`，和 `'PTRATIO'`，给我们提供了每个数据点的数量相关的信息。\n",
    "- **目标变量**：` 'MEDV'`，是我们希望预测的变量。\n",
    "\n",
    "他们分别被存在`features`和`prices`两个变量名中。"
   ]
  },
  {
   "cell_type": "markdown",
   "metadata": {},
   "source": [
    "### 编程练习 1：基础统计运算\n",
    "你的第一个编程练习是计算有关波士顿房价的描述统计数据。我们已为你导入了` numpy `，你需要使用这个库来执行必要的计算。这些统计数据对于分析模型的预测结果非常重要的。\n",
    "在下面的代码中，你要做的是：\n",
    "- 计算`prices`中的`'MEDV'`的最小值、最大值、均值、中值和标准差；\n",
    "- 将运算结果储存在相应的变量中。"
   ]
  },
  {
   "cell_type": "code",
   "execution_count": 9,
   "metadata": {},
   "outputs": [
    {
     "name": "stdout",
     "output_type": "stream",
     "text": [
      "Statistics for Boston housing dataset:\n",
      "\n",
      "Minimum price: $105,000.00\n",
      "Maximum price: $1,024,800.00\n",
      "Mean price: $454,342.94\n",
      "Median price $438,900.00\n",
      "Standard deviation of prices: $165,171.13\n"
     ]
    }
   ],
   "source": [
    "#TODO 1\n",
    "\n",
    "#目标：计算价值的最小值\n",
    "minimum_price = np.min(prices)\n",
    "\n",
    "#目标：计算价值的最大值\n",
    "maximum_price = np.max(prices)\n",
    "\n",
    "#目标：计算价值的平均值\n",
    "mean_price = np.mean(prices)\n",
    "\n",
    "#目标：计算价值的中值\n",
    "median_price = np.median(prices)\n",
    "\n",
    "#目标：计算价值的标准差\n",
    "std_price = np.std(prices)\n",
    "\n",
    "#目标：输出计算的结果\n",
    "print \"Statistics for Boston housing dataset:\\n\"\n",
    "print \"Minimum price: ${:,.2f}\".format(minimum_price)\n",
    "print \"Maximum price: ${:,.2f}\".format(maximum_price)\n",
    "print \"Mean price: ${:,.2f}\".format(mean_price)\n",
    "print \"Median price ${:,.2f}\".format(median_price)\n",
    "print \"Standard deviation of prices: ${:,.2f}\".format(std_price)"
   ]
  },
  {
   "cell_type": "code",
   "execution_count": 10,
   "metadata": {},
   "outputs": [
    {
     "data": {
      "text/plain": [
       "count    4.890000e+02\n",
       "mean     4.543429e+05\n",
       "std      1.653403e+05\n",
       "min      1.050000e+05\n",
       "25%      3.507000e+05\n",
       "50%      4.389000e+05\n",
       "75%      5.187000e+05\n",
       "max      1.024800e+06\n",
       "Name: MEDV, dtype: float64"
      ]
     },
     "execution_count": 10,
     "metadata": {},
     "output_type": "execute_result"
    }
   ],
   "source": [
    "prices.describe()"
   ]
  },
  {
   "cell_type": "markdown",
   "metadata": {},
   "source": [
    "### 问题 1 - 特征观察\n",
    "\n",
    "如前文所述，本项目中我们关注的是其中三个值:`'RM'`、`'LSTAT'` 和`'PTRATIO'`，对每一个数据点:\n",
    "- `'RM'` 是该地区中每个房屋的平均房间数量；\n",
    "- `'LSTAT'` 是指该地区有多少百分比的房东属于是低收入阶层（有工作但收入微薄）；\n",
    "- `'PTRATIO'` 是该地区的中学和小学里，学生和老师的数目比（`学生/老师`）。\n",
    "\n",
    "_凭直觉，上述三个特征中对每一个来说，你认为增大该特征的数值，`'MEDV'`的值会是**增大**还是**减小**呢？每一个答案都需要你给出理由。_\n",
    "\n",
    "**提示：**你预期一个`'RM'` 值是6的房屋跟`'RM'` 值是7的房屋相比，价值更高还是更低呢？"
   ]
  },
  {
   "cell_type": "markdown",
   "metadata": {},
   "source": [
    "### 问题 1 - 回答：\n",
    "\n",
    "我预期：\n",
    "\n",
    "- `'RM'` 增加`'MEDV'`的值会是**增大**；因为一般情况下房屋房间数越多房屋面积越大，从而房屋的总价会越高。\n",
    "\n",
    "- `'LSTAT'` 增加`'MEDV'`的值会是**减小**；因为该地区房东属于低收入阶层的比例增加，该地区居民的整体购买能力会变低，从而房屋的价钱就越低。\n",
    "\n",
    "- `'PTRATIO'` 增加`'MEDV'`的值会是**减小**；因为我猜测如果中小学里学生／老师越小，说明该地区教育资源比较丰富，师资力量充足，还可能存在学区房的因素，进而这个比例小的地方房价应该会更高；反之中小学里学生／老师比例增加，房价会降低。\n"
   ]
  },
  {
   "cell_type": "markdown",
   "metadata": {},
   "source": [
    "### 编程练习 2: 数据分割与重排\n",
    "接下来，你需要把波士顿房屋数据集分成训练和测试两个子集。通常在这个过程中，数据也会被重排列，以消除数据集中由于顺序而产生的偏差。\n",
    "在下面的代码中，你需要\n",
    "\n",
    "使用 `sklearn.model_selection` 中的 `train_test_split`， 将`features`和`prices`的数据都分成用于训练的数据子集和用于测试的数据子集。\n",
    "  - 分割比例为：80%的数据用于训练，20%用于测试；\n",
    "  - 选定一个数值以设定 `train_test_split` 中的 `random_state` ，这会确保结果的一致性；"
   ]
  },
  {
   "cell_type": "code",
   "execution_count": 69,
   "metadata": {
    "collapsed": true
   },
   "outputs": [],
   "source": [
    "# TODO 2\n",
    "\n",
    "# 提示： 导入train_test_split\n",
    "from sklearn.model_selection import train_test_split\n",
    "\n",
    "X_train, X_test, y_train, y_test = \\\n",
    "train_test_split(features, prices, test_size=0.2, random_state=0)\n"
   ]
  },
  {
   "cell_type": "markdown",
   "metadata": {},
   "source": [
    "### 问题 2 - 训练及测试\n",
    "*将数据集按一定比例分为训练用的数据集和测试用的数据集对学习算法有什么好处？*\n",
    "\n",
    "*如果用模型已经见过的数据，例如部分训练集数据进行测试，又有什么坏处？*\n",
    "\n",
    "**提示：** 如果没有数据来对模型进行测试，会出现什么问题？"
   ]
  },
  {
   "cell_type": "markdown",
   "metadata": {},
   "source": [
    "### 问题 2 - 回答:\n",
    "\n",
    "将数据集按一定比例分为训练用的数据集和测试用的数据集，使得我们能够在独立的数据集上评估训练算法模型的性能，用模型未知的数据进行测试的时候更容易发现算法的缺陷（如过拟合 overfitting），使算法更健壮更准确的预测未知数据。\n",
    "\n",
    "如果用模型已经见过的数据进行测试，就会导致模型看起来预测准确度很高，因为算法模型就是用这些数据训练出来的，但遇到新数据的情况下不能有很好的效果。\n",
    "\n",
    "如果没有数据对模型进行测试，我们就没办法判定学习算法是否符合我们的期望，需要测试数据集帮助我们判断算法的效果。"
   ]
  },
  {
   "cell_type": "markdown",
   "metadata": {},
   "source": [
    "---\n",
    "## 第三步. 模型衡量标准\n",
    "在项目的第三步中，你需要了解必要的工具和技巧来让你的模型进行预测。用这些工具和技巧对每一个模型的表现做精确的衡量可以极大地增强你预测的信心。"
   ]
  },
  {
   "cell_type": "markdown",
   "metadata": {},
   "source": [
    "### 编程练习3：定义衡量标准\n",
    "如果不能对模型的训练和测试的表现进行量化地评估，我们就很难衡量模型的好坏。通常我们会定义一些衡量标准，这些标准可以通过对某些误差或者拟合程度的计算来得到。在这个项目中，你将通过运算[*决定系数*](http://stattrek.com/statistics/dictionary.aspx?definition=coefficient_of_determination) R<sup>2</sup> 来量化模型的表现。模型的决定系数是回归分析中十分常用的统计信息，经常被当作衡量模型预测能力好坏的标准。\n",
    "\n",
    "R<sup>2</sup>的数值范围从0至1，表示**目标变量**的预测值和实际值之间的相关程度平方的百分比。一个模型的R<sup>2</sup> 值为0还不如直接用**平均值**来预测效果好；而一个R<sup>2</sup> 值为1的模型则可以对目标变量进行完美的预测。从0至1之间的数值，则表示该模型中目标变量中有百分之多少能够用**特征**来解释。_模型也可能出现负值的R<sup>2</sup>，这种情况下模型所做预测有时会比直接计算目标变量的平均值差很多。_\n",
    "\n",
    "在下方代码的 `performance_metric` 函数中，你要实现：\n",
    "- 使用 `sklearn.metrics` 中的 [`r2_score`](http://scikit-learn.org/stable/modules/generated/sklearn.metrics.r2_score.html) 来计算 `y_true` 和 `y_predict`的R<sup>2</sup>值，作为对其表现的评判。\n",
    "- 将他们的表现评分储存到`score`变量中。\n",
    "\n",
    "或 \n",
    "\n",
    "- (可选) 不使用任何外部库，参考[决定系数的定义](https://en.wikipedia.org/wiki/Coefficient_of_determination)进行计算，这也可以帮助你更好的理解决定系数在什么情况下等于0或等于1。"
   ]
  },
  {
   "cell_type": "code",
   "execution_count": 13,
   "metadata": {
    "collapsed": true
   },
   "outputs": [],
   "source": [
    "# TODO 3\n",
    "\n",
    "# 提示： 导入r2_score\n",
    "from sklearn.metrics import r2_score\n",
    "\n",
    "def performance_metric(y_true, y_predict):\n",
    "    \"\"\"计算并返回预测值相比于预测值的分数\"\"\"\n",
    "    \n",
    "    score = r2_score(y_true, y_predict)\n",
    "\n",
    "    return score"
   ]
  },
  {
   "cell_type": "code",
   "execution_count": null,
   "metadata": {
    "collapsed": true
   },
   "outputs": [],
   "source": [
    "# TODO 3 可选\n",
    "\n",
    "# 不允许导入任何计算决定系数的库\n",
    "\n",
    "def performance_metric2(y_true, y_predict):\n",
    "    \"\"\"计算并返回预测值相比于预测值的分数\"\"\"\n",
    "    \n",
    "    score = None\n",
    "\n",
    "    return score"
   ]
  },
  {
   "cell_type": "markdown",
   "metadata": {},
   "source": [
    "### 问题 3 - 拟合程度\n",
    "\n",
    "假设一个数据集有五个数据且一个模型做出下列目标变量的预测：\n",
    "\n",
    "| 真实数值 | 预测数值 |\n",
    "| :-------------: | :--------: |\n",
    "| 3.0 | 2.5 |\n",
    "| -0.5 | 0.0 |\n",
    "| 2.0 | 2.1 |\n",
    "| 7.0 | 7.8 |\n",
    "| 4.2 | 5.3 |\n",
    "*你觉得这个模型已成功地描述了目标变量的变化吗？如果成功，请解释为什么，如果没有，也请给出原因。*  \n",
    "\n",
    "**提示**：运行下方的代码，使用`performance_metric`函数来计算模型的决定系数。"
   ]
  },
  {
   "cell_type": "code",
   "execution_count": 14,
   "metadata": {},
   "outputs": [
    {
     "name": "stdout",
     "output_type": "stream",
     "text": [
      "Model has a coefficient of determination, R^2, of 0.923.\n"
     ]
    }
   ],
   "source": [
    "# 计算这个模型的预测结果的决定系数\n",
    "score = performance_metric([3, -0.5, 2, 7, 4.2], [2.5, 0.0, 2.1, 7.8, 5.3])\n",
    "print \"Model has a coefficient of determination, R^2, of {:.3f}.\".format(score)"
   ]
  },
  {
   "cell_type": "markdown",
   "metadata": {},
   "source": [
    "### 问题 3 - 回答:\n",
    "\n",
    "根据代码运行结果，这个模型的 R<sup>2</sup> = 0.923，十分接近1，所以这个模型成功地描述了目标变量的变化。"
   ]
  },
  {
   "cell_type": "markdown",
   "metadata": {},
   "source": [
    "---\n",
    "## 第四步. 分析模型的表现\n",
    "在项目的第四步，我们来看一下不同参数下，模型在训练集和验证集上的表现。这里，我们专注于一个特定的算法（带剪枝的决策树，但这并不是这个项目的重点），和这个算法的一个参数 `'max_depth'`。用全部训练集训练，选择不同`'max_depth'` 参数，观察这一参数的变化如何影响模型的表现。画出模型的表现来对于分析过程十分有益，这可以让我们看到一些单看结果看不到的行为。"
   ]
  },
  {
   "cell_type": "markdown",
   "metadata": {},
   "source": [
    "### 学习曲线\n",
    "下方区域内的代码会输出四幅图像，它们是一个决策树模型在不同最大深度下的表现。每一条曲线都直观得显示了随着训练数据量的增加，模型学习曲线的在训练集评分和验证集评分的变化，评分使用决定系数R<sup>2</sup>。曲线的阴影区域代表的是该曲线的不确定性（用标准差衡量）。\n",
    "\n",
    "运行下方区域中的代码，并利用输出的图形回答下面的问题。"
   ]
  },
  {
   "cell_type": "code",
   "execution_count": 15,
   "metadata": {
    "scrolled": false
   },
   "outputs": [
    {
     "data": {
      "image/png": "[encoded data removed]",
      "text/plain": [
       "<matplotlib.figure.Figure at 0x116d94950>"
      ]
     },
     "metadata": {},
     "output_type": "display_data"
    }
   ],
   "source": [
    "# 根据不同的训练集大小，和最大深度，生成学习曲线\n",
    "vs.ModelLearning(X_train, y_train)"
   ]
  },
  {
   "cell_type": "markdown",
   "metadata": {},
   "source": [
    "### 问题 4 - 学习曲线\n",
    "*选择上述图像中的其中一个，并给出其最大深度。随着训练数据量的增加，训练集曲线的评分有怎样的变化？验证集曲线呢？如果有更多的训练数据，是否能有效提升模型的表现呢？*\n",
    "\n",
    "**提示：**学习曲线的评分是否最终会收敛到特定的值？"
   ]
  },
  {
   "cell_type": "markdown",
   "metadata": {},
   "source": [
    "### 问题 4 - 回答:\n",
    "\n",
    "选择最大深度为3的图：\n",
    "\n",
    "随着训练数据量的增加，训练集曲线的评分下降，在训练数量小于50的时候评分随训练数量增加下降明显，之后下降越来越缓慢，最后趋近于0.8；\n",
    "\n",
    "验证集曲线随着训练数量的增加评分升高，且在训练数量小于50的时候评分随训练数量增加明显提升，之后也差不多趋近于约0.77-0.8；\n",
    "\n",
    "训练数据集在一定范围内，更多的训练数据能够提升模型的表现；但增加训练数据到一定数量之后训练评分会趋近一个特定值而不会再随训练数据的增多而显著增加了。\n"
   ]
  },
  {
   "cell_type": "markdown",
   "metadata": {},
   "source": [
    "### 复杂度曲线\n",
    "下列代码内的区域会输出一幅图像，它展示了一个已经经过训练和验证的决策树模型在不同最大深度条件下的表现。这个图形将包含两条曲线，一个是训练集的变化，一个是验证集的变化。跟**学习曲线**相似，阴影区域代表该曲线的不确定性，模型训练和测试部分的评分都用的 `performance_metric` 函数。\n",
    "\n",
    "运行下方区域中的代码，并利用输出的图形并回答下面的两个问题。"
   ]
  },
  {
   "cell_type": "code",
   "execution_count": 16,
   "metadata": {},
   "outputs": [
    {
     "data": {
      "image/png": "[encoded data removed]",
      "text/plain": [
       "<matplotlib.figure.Figure at 0x11a581610>"
      ]
     },
     "metadata": {},
     "output_type": "display_data"
    }
   ],
   "source": [
    "# 根据不同的最大深度参数，生成复杂度曲线\n",
    "vs.ModelComplexity(X_train, y_train)"
   ]
  },
  {
   "cell_type": "markdown",
   "metadata": {},
   "source": [
    "### 问题 5 - 偏差（bias）与方差（variance）之间的权衡取舍\n",
    "*当模型以最大深度 1训练时，模型的预测是出现很大的偏差还是出现了很大的方差？当模型以最大深度10训练时，情形又如何呢？图形中的哪些特征能够支持你的结论？*\n",
    "  \n",
    "**提示：** 你如何得知模型是否出现了偏差很大或者方差很大的问题？"
   ]
  },
  {
   "cell_type": "markdown",
   "metadata": {},
   "source": [
    "### 问题 5 - 回答:\n",
    "\n",
    "当模型以最大深度 1 训练时，模型的预测是出现很大的偏差，因为从图中可看出当最大深度为1时，训练集的r2 score还不到0.5，说明模型不够复杂，无法准确捕捉训练数据的特征。\n",
    "\n",
    "当模型以最大深度 10 训练时，模型的预测是出现很大的误差，因为从图中可看出当最大深度为10时，训练集的r2 score已经接近1，说明模型已经能近乎完美的描述训练数据的特征，但验证集的r2 score在最大深度为10的值却比最大深度为4的值下降了，说明模型在最大深度从4增加到10的时候方差变大了。"
   ]
  },
  {
   "cell_type": "markdown",
   "metadata": {},
   "source": [
    "### 问题 6- 最优模型的猜测\n",
    "*结合问题 5 中的图，你认为最大深度是多少的模型能够最好地对未见过的数据进行预测？你得出这个答案的依据是什么？*"
   ]
  },
  {
   "cell_type": "markdown",
   "metadata": {},
   "source": [
    "### 问题 6 - 回答:\n",
    "\n",
    "最大深度是4的模型能够最好地对未见过的数据进行预测，因为验证集的评分在最大深度为4的时候达到最高。\n"
   ]
  },
  {
   "cell_type": "markdown",
   "metadata": {},
   "source": [
    "---\n",
    "## 第五步. 选择最优参数"
   ]
  },
  {
   "cell_type": "markdown",
   "metadata": {},
   "source": [
    "### 问题 7- 网格搜索（Grid Search）\n",
    "*什么是网格搜索法？如何用它来优化模型？*\n"
   ]
  },
  {
   "cell_type": "markdown",
   "metadata": {},
   "source": [
    "### 问题 7 - 回答:\n",
    "\n",
    "根据scikit官方文档：\n",
    "http://scikit-learn.org/stable/modules/grid_search.html#grid-search\n",
    "\n",
    "网格搜索法是在我们输入模型的待确定参数和各参数的取值范围的情况下，遍历参数的所有取值组合，生成不同参数组合的预测模型，并用一定评分标准对预测模型进行评分，最后选出效果最优的模型的参数组合。"
   ]
  },
  {
   "cell_type": "markdown",
   "metadata": {},
   "source": [
    "### 问题 8 - 交叉验证\n",
    "- 什么是K折交叉验证法（k-fold cross-validation）？\n",
    "- [GridSearchCV](http://scikit-learn.org/stable/modules/generated/sklearn.model_selection.GridSearchCV.html)是如何结合交叉验证来完成对最佳参数组合的选择的？\n",
    "- [GridSearchCV](http://scikit-learn.org/stable/modules/generated/sklearn.model_selection.GridSearchCV.html)中的`'cv_results_'`属性能告诉我们什么？\n",
    "- 网格搜索时如果不使用交叉验证会有什么问题？交叉验证又是如何解决这个问题的？\n",
    "\n",
    "**提示：** 在下面 fit_model函数最后加入 `print pd.DataFrame(grid.cv_results_)` 可以帮你查看更多信息。"
   ]
  },
  {
   "cell_type": "markdown",
   "metadata": {},
   "source": [
    "### 问题 8 - 回答：\n",
    "\n",
    "- K折交叉验证法（k-fold cross-validation）是将训练集分成k个不相交的子集，依次从分好的子集中里面拿出一个作为验证集，其它k-1个作为交叉验证的训练集训练出模型，把这个模型应用于验证集上得到模型评分（如预测准确率），k次求得的评分的平均值作为该模型的最终评分。测试集不参加交叉验证，是为了不模型与目标数据（测试集）相互独立，能更好验证模型对未知数据的预测能力。\n",
    "\n",
    "\n",
    "- 根据 http://scikit-learn.org/stable/auto_examples/model_selection/plot_grid_search_digits.html#sphx-glr-auto-examples-model-selection-plot-grid-search-digits-py ，GridSearchCV使用穷举参数组合来选择最优模型的时候，使用交叉验证（k-fold）可以充分利用训练集的数据，将训练集数据分成互相独立的k份依次取k-1份训练当前参数组合的模型，每次利用独立的测试集计算出模型评分（如预测准确率），再算出平均评分作为这一组参数的最终评分，最后比较每种参数组合的评分来选择性能最优的作为模型参数。\n",
    "\n",
    "\n",
    "- 根据下面`'cv_results_'`的打印输出，结果列出了每种参数条件下的模型应用于训练数据和测试数据每次交叉验证的评分以及最终的平均评分，并根据平均评分为个参数排序最终确定最优参数（max_depth=4）。\n",
    "\n",
    "\n",
    "- 网格搜索如果不使用交叉验证就只是把训练集分成训练子集和验证集然后对参数组合进行评分选择最优，这样的问题是我们想要有尽可能多的训练子集数据和验证集数据来帮助我们找到最优模型参数，但是只分割一次的训练集数据量是一定的，不一定能得到的模型参数就是最优的，交叉验证的方法让所有训练集的数据在k次训练和验证过程中都既做了训练子集又做了验证集，同时k折交叉验证的每次参与训练和评分的训练集和验证集之间都相互独立，这样充分利用了训练集的有限数据，最后得到的k次模型评分平均值就十分可信了。"
   ]
  },
  {
   "cell_type": "markdown",
   "metadata": {},
   "source": [
    "### 编程练习 4：训练最优模型\n",
    "在这个练习中，你将需要将所学到的内容整合，使用**决策树算法**训练一个模型。为了得出的是一个最优模型，你需要使用网格搜索法训练模型，以找到最佳的 `'max_depth'` 参数。你可以把`'max_depth'` 参数理解为决策树算法在做出预测前，允许其对数据提出问题的数量。决策树是**监督学习算法**中的一种。\n",
    "\n",
    "在下方 `fit_model` 函数中，你需要做的是：\n",
    "1. **定义 `'cross_validator'` 变量**: 使用 `sklearn.model_selection` 中的 [`KFold`](http://scikit-learn.org/stable/modules/generated/sklearn.model_selection.KFold.html) 创建一个交叉验证生成器对象;\n",
    "2. **定义 `'regressor'` 变量**: 使用  `sklearn.tree` 中的 [`DecisionTreeRegressor`](http://scikit-learn.org/stable/modules/generated/sklearn.tree.DecisionTreeRegressor.html) 创建一个决策树的回归函数;\n",
    "3. **定义 `'params'` 变量**: 为 `'max_depth'` 参数创造一个字典，它的值是从1至10的数组;\n",
    "4. **定义 `'scoring_fnc'` 变量**: 使用 `sklearn.metrics` 中的 [`make_scorer`](http://scikit-learn.org/stable/modules/generated/sklearn.metrics.make_scorer.html)  创建一个评分函数；\n",
    " 将 `‘performance_metric’` 作为参数传至这个函数中；\n",
    "5. **定义 `'grid'` 变量**: 使用 `sklearn.model_selection` 中的 [`GridSearchCV`](http://scikit-learn.org/stable/modules/generated/sklearn.model_selection.GridSearchCV.html) 创建一个网格搜索对象；将变量`'regressor'`, `'params'`, `'scoring_fnc'`和 `'cross_validator'` 作为参数传至这个对象构造函数中；\n",
    "  \n",
    "如果你对python函数的默认参数定义和传递不熟悉，可以参考这个MIT课程的[视频](http://cn-static.udacity.com/mlnd/videos/MIT600XXT114-V004200_DTH.mp4)。"
   ]
  },
  {
   "cell_type": "code",
   "execution_count": 88,
   "metadata": {
    "collapsed": true
   },
   "outputs": [],
   "source": [
    "# TODO 4\n",
    "\n",
    "#提示: 导入 'KFold' 'DecisionTreeRegressor' 'make_scorer' 'GridSearchCV' \n",
    "from sklearn.model_selection import KFold\n",
    "from sklearn.model_selection import GridSearchCV\n",
    "from sklearn.metrics import fbeta_score, make_scorer\n",
    "from sklearn.tree import DecisionTreeRegressor\n",
    "\n",
    "def fit_model(X, y):\n",
    "    \"\"\" 基于输入数据 [X,y]，利于网格搜索找到最优的决策树模型\"\"\"\n",
    "    \n",
    "    # 采用10 fold cross validation\n",
    "    cross_validator = KFold(n_splits=10)\n",
    "    \n",
    "    regressor = DecisionTreeRegressor(random_state=0)\n",
    "    \n",
    "    params = {'max_depth': [dp for dp in range(1,11)]}\n",
    "\n",
    "    scoring_fnc = make_scorer(performance_metric)\n",
    "\n",
    "    grid = GridSearchCV(regressor, params, scoring_fnc, cv=cross_validator)\n",
    "\n",
    "    # 基于输入数据 [X,y]，进行网格搜索\n",
    "    grid = grid.fit(X, y)\n",
    "\n",
    "    # 查看cv_results_\n",
    "    print pd.DataFrame(grid.cv_results_)\n",
    "    \n",
    "    # 返回网格搜索后的最优模型\n",
    "    return grid.best_estimator_\n"
   ]
  },
  {
   "cell_type": "markdown",
   "metadata": {},
   "source": [
    "### 编程练习 4：训练最优模型 （可选）\n",
    "在这个练习中，你将需要将所学到的内容整合，使用**决策树算法**训练一个模型。为了得出的是一个最优模型，你需要使用网格搜索法训练模型，以找到最佳的 `'max_depth'` 参数。你可以把`'max_depth'` 参数理解为决策树算法在做出预测前，允许其对数据提出问题的数量。决策树是**监督学习算法**中的一种。\n",
    "\n",
    "在下方 `fit_model` 函数中，你需要做的是：\n",
    "\n",
    "- 遍历参数`‘max_depth’`的可选值 1～10，构造对应模型\n",
    "- 计算当前模型的交叉验证分数\n",
    "- 返回最优交叉验证分数对应的模型"
   ]
  },
  {
   "cell_type": "code",
   "execution_count": null,
   "metadata": {
    "collapsed": true
   },
   "outputs": [],
   "source": [
    "# TODO 4 可选\n",
    "\n",
    "'''\n",
    "不允许使用 DecisionTreeRegressor 以外的任何 sklearn 库\n",
    "\n",
    "提示: 你可能需要实现下面的 cross_val_score 函数\n",
    "\n",
    "def cross_val_score(estimator, X, y, scoring = performance_metric, cv=3):\n",
    "    \"\"\" 返回每组交叉验证的模型分数的数组 \"\"\"\n",
    "    scores = [0,0,0]\n",
    "    return scores\n",
    "'''\n",
    "\n",
    "def fit_model2(X, y):\n",
    "    \"\"\" 基于输入数据 [X,y]，利于网格搜索找到最优的决策树模型\"\"\"\n",
    "    \n",
    "    #最优交叉验证分数对应的最优模型\n",
    "    best_estimator = None\n",
    "    \n",
    "    return best_estimator"
   ]
  },
  {
   "cell_type": "markdown",
   "metadata": {},
   "source": [
    "### 问题 9 - 最优模型\n",
    "*最优模型的最大深度（maximum depth）是多少？此答案与你在**问题 6**所做的猜测是否相同？*\n",
    "\n",
    "运行下方区域内的代码，将决策树回归函数代入训练数据的集合，以得到最优化的模型。"
   ]
  },
  {
   "cell_type": "code",
   "execution_count": 89,
   "metadata": {
    "scrolled": false
   },
   "outputs": [
    {
     "name": "stdout",
     "output_type": "stream",
     "text": [
      "   mean_fit_time  mean_score_time  mean_test_score  mean_train_score  \\\n",
      "0       0.003073         0.000698         0.393190          0.473731   \n",
      "1       0.001014         0.000343         0.631778          0.737366   \n",
      "2       0.000794         0.000267         0.762798          0.833799   \n",
      "3       0.000841         0.000267         0.785469          0.879338   \n",
      "4       0.000939         0.000282         0.772051          0.907058   \n",
      "5       0.000995         0.000280         0.754203          0.930713   \n",
      "6       0.001026         0.000274         0.745826          0.947671   \n",
      "7       0.001198         0.000311         0.723695          0.960571   \n",
      "8       0.002384         0.000557         0.706571          0.973343   \n",
      "9       0.001264         0.000301         0.700541          0.981873   \n",
      "\n",
      "  param_max_depth              params  rank_test_score  split0_test_score  \\\n",
      "0               1   {u'max_depth': 1}               10           0.194234   \n",
      "1               2   {u'max_depth': 2}                9           0.471609   \n",
      "2               3   {u'max_depth': 3}                3           0.717627   \n",
      "3               4   {u'max_depth': 4}                1           0.796158   \n",
      "4               5   {u'max_depth': 5}                2           0.836390   \n",
      "5               6   {u'max_depth': 6}                4           0.825598   \n",
      "6               7   {u'max_depth': 7}                5           0.827053   \n",
      "7               8   {u'max_depth': 8}                6           0.827884   \n",
      "8               9   {u'max_depth': 9}                7           0.812598   \n",
      "9              10  {u'max_depth': 10}                8           0.836639   \n",
      "\n",
      "   split0_train_score  split1_test_score       ...         split7_test_score  \\\n",
      "0            0.469160           0.415338       ...                  0.267559   \n",
      "1            0.741135           0.710609       ...                  0.387501   \n",
      "2            0.823960           0.822457       ...                  0.623715   \n",
      "3            0.882243           0.809065       ...                  0.567373   \n",
      "4            0.905933           0.802132       ...                  0.457590   \n",
      "5            0.928771           0.743541       ...                  0.503865   \n",
      "6            0.948229           0.753236       ...                  0.463950   \n",
      "7            0.963058           0.714652       ...                  0.283455   \n",
      "8            0.974069           0.704642       ...                  0.263610   \n",
      "9            0.984353           0.716330       ...                  0.247464   \n",
      "\n",
      "   split7_train_score  split8_test_score  split8_train_score  \\\n",
      "0            0.483259           0.471616            0.471746   \n",
      "1            0.746803           0.597150            0.746662   \n",
      "2            0.850816           0.682798            0.854881   \n",
      "3            0.889232           0.737466            0.892401   \n",
      "4            0.912776           0.669542            0.921774   \n",
      "5            0.935707           0.628536            0.940745   \n",
      "6            0.951270           0.664265            0.954095   \n",
      "7            0.964522           0.675656            0.964230   \n",
      "8            0.977366           0.652833            0.977137   \n",
      "9            0.986401           0.648730            0.983786   \n",
      "\n",
      "   split9_test_score  split9_train_score  std_fit_time  std_score_time  \\\n",
      "0           0.520221            0.463880      0.004030        0.000283   \n",
      "1           0.712387            0.733332      0.000338        0.000103   \n",
      "2           0.847253            0.822417      0.000037        0.000008   \n",
      "3           0.847146            0.868057      0.000020        0.000007   \n",
      "4           0.873988            0.892596      0.000083        0.000026   \n",
      "5           0.906481            0.916308      0.000065        0.000009   \n",
      "6           0.906985            0.938554      0.000046        0.000005   \n",
      "7           0.895275            0.951154      0.000233        0.000075   \n",
      "8           0.888147            0.965189      0.002193        0.000348   \n",
      "9           0.867410            0.973816      0.000136        0.000023   \n",
      "\n",
      "   std_test_score  std_train_score  \n",
      "0        0.131937         0.008109  \n",
      "1        0.137609         0.007707  \n",
      "2        0.080297         0.011256  \n",
      "3        0.092111         0.008642  \n",
      "4        0.124495         0.007691  \n",
      "5        0.124405         0.006353  \n",
      "6        0.130750         0.004264  \n",
      "7        0.165995         0.004495  \n",
      "8        0.171007         0.003691  \n",
      "9        0.171457         0.003648  \n",
      "\n",
      "[10 rows x 31 columns]\n",
      "Parameter 'max_depth' is 4 for the optimal model.\n"
     ]
    }
   ],
   "source": [
    "# 基于训练数据，获得最优模型\n",
    "optimal_reg = fit_model(X_train, y_train)\n",
    "\n",
    "# 输出最优模型的 'max_depth' 参数\n",
    "print \"Parameter 'max_depth' is {} for the optimal model.\".format(optimal_reg.get_params()['max_depth'])"
   ]
  },
  {
   "cell_type": "markdown",
   "metadata": {},
   "source": [
    "### 问题 9 - 回答：\n",
    "\n",
    "最优模型的最大深度是4，此答案与我在问题6所做的猜测一致。"
   ]
  },
  {
   "cell_type": "markdown",
   "metadata": {},
   "source": [
    "## 第六步. 做出预测\n",
    "当我们用数据训练出一个模型，它现在就可用于对新的数据进行预测。在决策树回归函数中，模型已经学会对新输入的数据*提问*，并返回对**目标变量**的预测值。你可以用这个预测来获取数据未知目标变量的信息，这些数据必须是不包含在训练数据之内的。"
   ]
  },
  {
   "cell_type": "markdown",
   "metadata": {},
   "source": [
    "### 问题 10 - 预测销售价格\n",
    "想像你是一个在波士顿地区的房屋经纪人，并期待使用此模型以帮助你的客户评估他们想出售的房屋。你已经从你的三个客户收集到以下的资讯:\n",
    "\n",
    "| 特征 | 客戶 1 | 客戶 2 | 客戶 3 |\n",
    "| :---: | :---: | :---: | :---: |\n",
    "| 房屋内房间总数 | 5 间房间 | 4 间房间 | 8 间房间 |\n",
    "| 社区贫困指数（％被认为是贫困阶层） | 17% | 32% | 3% |\n",
    "| 邻近学校的学生-老师比例 | 15：1 | 22：1 | 12：1 |\n",
    "\n",
    "*你会建议每位客户的房屋销售的价格为多少？从房屋特征的数值判断，这样的价格合理吗？为什么？* \n",
    "\n",
    "**提示：**用你在**分析数据**部分计算出来的统计信息来帮助你证明你的答案。\n",
    "\n",
    "运行下列的代码区域，使用你优化的模型来为每位客户的房屋价值做出预测。"
   ]
  },
  {
   "cell_type": "code",
   "execution_count": 68,
   "metadata": {},
   "outputs": [
    {
     "name": "stdout",
     "output_type": "stream",
     "text": [
      "Predicted selling price for Client 1's home: $391,183.33\n",
      "Predicted selling price for Client 2's home: $189,123.53\n",
      "Predicted selling price for Client 3's home: $942,666.67\n"
     ]
    }
   ],
   "source": [
    "# 生成三个客户的数据\n",
    "client_data = [[5, 17, 15], # 客户 1\n",
    "               [4, 32, 22], # 客户 2\n",
    "               [8, 3, 12]]  # 客户 3\n",
    "\n",
    "# 进行预测\n",
    "predicted_price = optimal_reg.predict(client_data)\n",
    "for i, price in enumerate(predicted_price):\n",
    "    print \"Predicted selling price for Client {}'s home: ${:,.2f}\".format(i+1, price)"
   ]
  },
  {
   "cell_type": "markdown",
   "metadata": {},
   "source": [
    "### 问题 10 - 回答：\n",
    "\n",
    "根据预测结果：建议客户1的售价为`$391,183.33`，客户2的建议售价为`$189,123.53`，客户3的建议售价为`$942,666.67`。\n",
    "\n",
    "从房屋特征判断，这三个价格相对合理，因为由之前对数据集的统计分析：房价最小值为`$105,000`，最大值为`$1,024,800`。这三个房屋的预测价格都在最大最小值之间。\n",
    "\n",
    "也符合之前的直觉：房间数越多、贫困指数越小、学生／老师比例越低，房价越高。\n",
    "\n"
   ]
  },
  {
   "cell_type": "markdown",
   "metadata": {},
   "source": [
    "### 编程练习 5\n",
    "你刚刚预测了三个客户的房子的售价。在这个练习中，你将用你的最优模型在整个测试数据上进行预测, 并计算相对于目标变量的决定系数 R<sup>2</sup>的值**。"
   ]
  },
  {
   "cell_type": "code",
   "execution_count": 76,
   "metadata": {},
   "outputs": [
    {
     "name": "stdout",
     "output_type": "stream",
     "text": [
      "Optimal model has R^2 score 0.77 on test data\n"
     ]
    }
   ],
   "source": [
    "#TODO 5\n",
    "\n",
    "# 提示：你可能需要用到 X_test, y_test, optimal_reg, performance_metric\n",
    "# 提示：你可能需要参考问题10的代码进行预测\n",
    "# 提示：你可能需要参考问题3的代码来计算R^2的值\n",
    "\n",
    "predicted_price = optimal_reg.predict(X_test.values)\n",
    "\n",
    "r2 = performance_metric(y_test.values, predicted_price)\n",
    "\n",
    "print \"Optimal model has R^2 score {:,.2f} on test data\".format(r2)"
   ]
  },
  {
   "cell_type": "markdown",
   "metadata": {},
   "source": [
    "### 问题11 - 分析决定系数\n",
    "\n",
    "你刚刚计算了最优模型在测试集上的决定系数，你会如何评价这个结果？"
   ]
  },
  {
   "cell_type": "markdown",
   "metadata": {},
   "source": [
    "### 问题11 - 回答\n",
    "\n",
    "最优模型在测试集上的决定系数是0.77，表示该模型中目标变量中有77%能够用特征来解释，虽然不是十分接近1的完美，但已经能描述大部分特征了。"
   ]
  },
  {
   "cell_type": "markdown",
   "metadata": {},
   "source": [
    "### 模型健壮性\n",
    "\n",
    "一个最优的模型不一定是一个健壮模型。有的时候模型会过于复杂或者过于简单，以致于难以泛化新增添的数据；有的时候模型采用的学习算法并不适用于特定的数据结构；有的时候样本本身可能有太多噪点或样本过少，使得模型无法准确地预测目标变量。这些情况下我们会说模型是欠拟合的。\n",
    "\n",
    "### 问题 12 - 模型健壮性\n",
    "\n",
    "模型是否足够健壮来保证预测的一致性？\n",
    "\n",
    "**提示**: 执行下方区域中的代码，采用不同的训练和测试集执行 `fit_model` 函数10次。注意观察对一个特定的客户来说，预测是如何随训练数据的变化而变化的。"
   ]
  },
  {
   "cell_type": "code",
   "execution_count": 87,
   "metadata": {},
   "outputs": [
    {
     "name": "stdout",
     "output_type": "stream",
     "text": [
      "Trial 1: $391,183.33\n",
      "Trial 2: $411,417.39\n",
      "Trial 3: $415,800.00\n",
      "Trial 4: $420,622.22\n",
      "Trial 5: $418,377.27\n",
      "Trial 6: $411,931.58\n",
      "Trial 7: $399,663.16\n",
      "Trial 8: $407,232.00\n",
      "Trial 9: $402,531.82\n",
      "Trial 10: $413,700.00\n",
      "\n",
      "Range in prices: $29,438.89\n"
     ]
    }
   ],
   "source": [
    "# 请先注释掉 fit_model 函数里的所有 print 语句\n",
    "vs.PredictTrials(features, prices, fit_model, client_data)"
   ]
  },
  {
   "cell_type": "markdown",
   "metadata": {},
   "source": [
    "### 问题 12 - 回答：\n",
    "\n",
    "执行几次之后发现，在训练集相同的时候，模型预测的房价是一定的，不同的训练集训练出的模型预测值有偏差，对于客户1房价的预测波动区间间隔为`$29,438.89`。模型不是特别健壮来保证预测的一致性。\n"
   ]
  },
  {
   "cell_type": "markdown",
   "metadata": {},
   "source": [
    "### 问题 13 - 实用性探讨\n",
    "*简单地讨论一下你建构的模型能否在现实世界中使用？* \n",
    "\n",
    "提示：回答以下几个问题，并给出相应结论的理由：\n",
    "- *1978年所采集的数据，在已考虑通货膨胀的前提下，在今天是否仍然适用？*\n",
    "- *数据中呈现的特征是否足够描述一个房屋？*\n",
    "- *在波士顿这样的大都市采集的数据，能否应用在其它乡镇地区？*\n",
    "- *你觉得仅仅凭房屋所在社区的环境来判断房屋价值合理吗？*"
   ]
  },
  {
   "cell_type": "markdown",
   "metadata": {},
   "source": [
    "### 问题 13 - 回答：\n",
    "\n",
    "- 1978年所采集的数据，在已考虑通货膨胀的前提下，今天不一定适用。因为有可能1978年的居民买房主要考虑交通和生活方便因为当时的交通工具可能没有那么发达，但现在交通更发达、人们的追求可能不一样了，可能更看重居住环境，或者学区房之类的因素，所以数据有可能不再适用。\n",
    "\n",
    "\n",
    "- 数据中呈现的三种特征不太足够描述一个房屋，还有其他特性可能影响房屋的价格，比如社区环境、距周边商场／公园／医院／学校等的距离、房屋的建筑年代等都可能影响房屋的价格。\n",
    "\n",
    "\n",
    "- 在波士顿这样的大都市采集的数据，不能应用在其它乡镇地区。首选房价本身就存在地域特性，大城市的房价跟乡镇地区没有相关性或者可比性，其次大城市居民对住房的需求可能跟乡镇地区也不一样，房价随需求不同而大不同也是很有可能的。\n",
    "\n",
    "\n",
    "- 仅仅凭房屋所在社区的环境来判断房屋价值也不合理，房屋的位置、房屋的年代和装修以及当地居民对购买房屋的需求等诸多方面都会对房屋价格产生影响，单凭社区环境很难准确判断房屋价值。\n",
    "\n",
    "综上几点所述，我认为构建的预测波士顿房价的模型不能在现实世界中使用。"
   ]
  },
  {
   "cell_type": "markdown",
   "metadata": {},
   "source": [
    "## 可选问题 - 预测北京房价\n",
    "\n",
    "（本题结果不影响项目是否通过）通过上面的实践，相信你对机器学习的一些常用概念有了很好的领悟和掌握。但利用70年代的波士顿房价数据进行建模的确对我们来说意义不是太大。现在你可以把你上面所学应用到北京房价数据集中 `bj_housing.csv`。\n",
    "\n",
    "免责声明：考虑到北京房价受到宏观经济、政策调整等众多因素的直接影响，预测结果仅供参考。\n",
    "\n",
    "这个数据集的特征有：\n",
    "- Area：房屋面积，平方米\n",
    "- Room：房间数，间\n",
    "- Living: 厅数，间\n",
    "- School: 是否为学区房，0或1\n",
    "- Year: 房屋建造时间，年\n",
    "- Floor: 房屋所处楼层，层\n",
    "\n",
    "目标变量：\n",
    "- Value: 房屋人民币售价，万\n",
    "\n",
    "你可以参考上面学到的内容，拿这个数据集来练习数据分割与重排、定义衡量标准、训练模型、评价模型表现、使用网格搜索配合交叉验证对参数进行调优并选出最佳参数，比较两者的差别，最终得出最佳模型对验证集的预测分数。"
   ]
  },
  {
   "cell_type": "code",
   "execution_count": 1,
   "metadata": {
    "collapsed": true
   },
   "outputs": [],
   "source": [
    "# TODO 6\n",
    "\n",
    "# 载入此项目所需要的库\n",
    "import numpy as np\n",
    "import pandas as pd\n",
    "\n",
    "# 检查你的Python版本\n",
    "from sys import version_info\n",
    "if version_info.major != 2 and version_info.minor != 7:\n",
    "    raise Exception('请使用Python 2.7来完成此项目')\n",
    "    \n",
    "# 让结果在notebook中显示\n",
    "%matplotlib inline"
   ]
  },
  {
   "cell_type": "code",
   "execution_count": 2,
   "metadata": {},
   "outputs": [
    {
     "name": "stdout",
     "output_type": "stream",
     "text": [
      "Beijing housing dataset has 9999 data points with 7 variables each.\n"
     ]
    }
   ],
   "source": [
    "# 载入北京房屋的数据集\n",
    "data = pd.read_csv('bj_housing.csv')\n",
    "prices = data['Value']\n",
    "features = data.drop('Value', axis = 1)\n",
    "    \n",
    "# 完成\n",
    "print \"Beijing housing dataset has {} data points with {} variables each.\".format(*data.shape)"
   ]
  },
  {
   "cell_type": "code",
   "execution_count": 3,
   "metadata": {},
   "outputs": [
    {
     "name": "stdout",
     "output_type": "stream",
     "text": [
      "Statistics for Boston housing dataset:\n",
      "\n",
      "Minimum price: 66.00万\n",
      "Maximum price: 7,450.00万\n",
      "Mean price: 342.08万\n",
      "Median price 280.00万\n",
      "Standard deviation of prices: 259.39万\n"
     ]
    }
   ],
   "source": [
    "#目标：计算价值的最小值\n",
    "minimum_price = np.min(prices)\n",
    "\n",
    "#目标：计算价值的最大值\n",
    "maximum_price = np.max(prices)\n",
    "\n",
    "#目标：计算价值的平均值\n",
    "mean_price = np.mean(prices)\n",
    "\n",
    "#目标：计算价值的中值\n",
    "median_price = np.median(prices)\n",
    "\n",
    "#目标：计算价值的标准差\n",
    "std_price = np.std(prices)\n",
    "\n",
    "#目标：输出计算的结果\n",
    "print \"Statistics for Boston housing dataset:\\n\"\n",
    "print \"Minimum price: {:,.2f}万\".format(minimum_price)\n",
    "print \"Maximum price: {:,.2f}万\".format(maximum_price)\n",
    "print \"Mean price: {:,.2f}万\".format(mean_price)\n",
    "print \"Median price {:,.2f}万\".format(median_price)\n",
    "print \"Standard deviation of prices: {:,.2f}万\".format(std_price)"
   ]
  },
  {
   "cell_type": "code",
   "execution_count": 4,
   "metadata": {},
   "outputs": [
    {
     "name": "stdout",
     "output_type": "stream",
     "text": [
      "7999\n"
     ]
    }
   ],
   "source": [
    "# 提示： 导入train_test_split\n",
    "from sklearn.model_selection import train_test_split\n",
    "\n",
    "X_train, X_test, y_train, y_test = \\\n",
    "train_test_split(features, prices, test_size=0.2, random_state=0)\n",
    "\n",
    "print len(X_train)"
   ]
  },
  {
   "cell_type": "code",
   "execution_count": 5,
   "metadata": {
    "collapsed": true
   },
   "outputs": [],
   "source": [
    "# 提示： 导入r2_score\n",
    "from sklearn.metrics import r2_score\n",
    "\n",
    "def performance_metric(y_true, y_predict):\n",
    "    \"\"\"计算并返回预测值相比于预测值的分数\"\"\"\n",
    "    \n",
    "    score = r2_score(y_true, y_predict)\n",
    "\n",
    "    return score"
   ]
  },
  {
   "cell_type": "code",
   "execution_count": 6,
   "metadata": {},
   "outputs": [
    {
     "data": {
      "image/png": "[encoded data removed]",
      "text/plain": [
       "<matplotlib.figure.Figure at 0x11449b6d0>"
      ]
     },
     "metadata": {},
     "output_type": "display_data"
    }
   ],
   "source": [
    "# 根据不同的训练集大小，和最大深度，生成学习曲线\n",
    "import visuals as vs\n",
    "vs.ModelLearning(X_train, y_train)"
   ]
  },
  {
   "cell_type": "code",
   "execution_count": 7,
   "metadata": {},
   "outputs": [
    {
     "name": "stdout",
     "output_type": "stream",
     "text": [
      "[ 1  2  3  4  5  6  7  8  9 10 11 12 13 14 15 16 17 18 19 20]\n"
     ]
    },
    {
     "data": {
      "image/png": "[encoded data removed]",
      "text/plain": [
       "<matplotlib.figure.Figure at 0x111c79a90>"
      ]
     },
     "metadata": {},
     "output_type": "display_data"
    }
   ],
   "source": [
    "# 根据不同的最大深度参数，生成复杂度曲线\n",
    "\n",
    "\n",
    "vs.ModelComplexity(X_train, y_train)"
   ]
  },
  {
   "cell_type": "code",
   "execution_count": 18,
   "metadata": {
    "collapsed": true
   },
   "outputs": [],
   "source": [
    "#提示: 导入 'KFold' 'DecisionTreeRegressor' 'make_scorer' 'GridSearchCV' \n",
    "from sklearn.model_selection import KFold\n",
    "from sklearn.model_selection import GridSearchCV\n",
    "from sklearn.metrics import fbeta_score, make_scorer\n",
    "from sklearn.tree import DecisionTreeRegressor\n",
    "\n",
    "def fit_model(X, y):\n",
    "    \"\"\" 基于输入数据 [X,y]，利于网格搜索找到最优的决策树模型\"\"\"\n",
    "    \n",
    "    # 采用10 fold cross validation\n",
    "    cross_validator = KFold(n_splits=10)\n",
    "    \n",
    "    regressor = DecisionTreeRegressor(random_state=0)\n",
    "    \n",
    "    params = {'max_depth': [dp for dp in range(1,31)]}\n",
    "\n",
    "    scoring_fnc = make_scorer(performance_metric)\n",
    "\n",
    "    grid = GridSearchCV(regressor, params, scoring_fnc, cv=cross_validator)\n",
    "\n",
    "    # 基于输入数据 [X,y]，进行网格搜索\n",
    "    grid = grid.fit(X, y)\n",
    "\n",
    "    # 查看cv_results_\n",
    "    print pd.DataFrame(grid.cv_results_)\n",
    "    \n",
    "    # 返回网格搜索后的最优模型\n",
    "    return grid.best_estimator_"
   ]
  },
  {
   "cell_type": "code",
   "execution_count": 19,
   "metadata": {},
   "outputs": [
    {
     "name": "stdout",
     "output_type": "stream",
     "text": [
      "    mean_fit_time  mean_score_time  mean_test_score  mean_train_score  \\\n",
      "0        0.006243         0.001564         0.294143          0.287670   \n",
      "1        0.002522         0.000355         0.412990          0.532063   \n",
      "2        0.004661         0.000440         0.567542          0.658468   \n",
      "3        0.004353         0.000427         0.609742          0.696396   \n",
      "4        0.004775         0.000373         0.619855          0.729548   \n",
      "5        0.005502         0.000376         0.618033          0.759101   \n",
      "6        0.006498         0.000403         0.638262          0.786854   \n",
      "7        0.007078         0.000432         0.613648          0.813391   \n",
      "8        0.007677         0.000406         0.623749          0.837024   \n",
      "9        0.008429         0.000428         0.639143          0.860098   \n",
      "10       0.009558         0.000437         0.615783          0.883623   \n",
      "11       0.011791         0.000555         0.617938          0.906534   \n",
      "12       0.015513         0.000825         0.630625          0.927245   \n",
      "13       0.013864         0.000715         0.624322          0.945066   \n",
      "14       0.012269         0.000536         0.605063          0.959779   \n",
      "15       0.012854         0.000559         0.643956          0.971044   \n",
      "16       0.013977         0.000629         0.615237          0.979328   \n",
      "17       0.014601         0.000788         0.643277          0.985316   \n",
      "18       0.014249         0.000576         0.616348          0.989354   \n",
      "19       0.014364         0.000553         0.617042          0.991847   \n",
      "20       0.014967         0.000689         0.608524          0.993483   \n",
      "21       0.017781         0.000834         0.624918          0.994434   \n",
      "22       0.016149         0.000950         0.642706          0.994859   \n",
      "23       0.015250         0.000782         0.609258          0.995097   \n",
      "24       0.014873         0.000580         0.634381          0.995241   \n",
      "25       0.014865         0.000568         0.626985          0.995285   \n",
      "26       0.014569         0.000550         0.625599          0.995294   \n",
      "27       0.014507         0.000549         0.634289          0.995304   \n",
      "28       0.014634         0.000550         0.634493          0.995308   \n",
      "29       0.014698         0.000540         0.634443          0.995308   \n",
      "\n",
      "   param_max_depth              params  rank_test_score  split0_test_score  \\\n",
      "0                1   {u'max_depth': 1}               30           0.212018   \n",
      "1                2   {u'max_depth': 2}               29           0.584597   \n",
      "2                3   {u'max_depth': 3}               28           0.815811   \n",
      "3                4   {u'max_depth': 4}               24           0.840665   \n",
      "4                5   {u'max_depth': 5}               16           0.848621   \n",
      "5                6   {u'max_depth': 6}               17           0.875839   \n",
      "6                7   {u'max_depth': 7}                5           0.861951   \n",
      "7                8   {u'max_depth': 8}               23           0.852263   \n",
      "8                9   {u'max_depth': 9}               15           0.862089   \n",
      "9               10  {u'max_depth': 10}                4           0.853472   \n",
      "10              11  {u'max_depth': 11}               21           0.854309   \n",
      "11              12  {u'max_depth': 12}               18           0.870400   \n",
      "12              13  {u'max_depth': 13}               10           0.873622   \n",
      "13              14  {u'max_depth': 14}               14           0.866310   \n",
      "14              15  {u'max_depth': 15}               27           0.874126   \n",
      "15              16  {u'max_depth': 16}                1           0.873160   \n",
      "16              17  {u'max_depth': 17}               22           0.871989   \n",
      "17              18  {u'max_depth': 18}                2           0.876713   \n",
      "18              19  {u'max_depth': 19}               20           0.855466   \n",
      "19              20  {u'max_depth': 20}               19           0.855336   \n",
      "20              21  {u'max_depth': 21}               26           0.874091   \n",
      "21              22  {u'max_depth': 22}               13           0.873268   \n",
      "22              23  {u'max_depth': 23}                3           0.861664   \n",
      "23              24  {u'max_depth': 24}               25           0.855107   \n",
      "24              25  {u'max_depth': 25}                8           0.860335   \n",
      "25              26  {u'max_depth': 26}               11           0.860649   \n",
      "26              27  {u'max_depth': 27}               12           0.860684   \n",
      "27              28  {u'max_depth': 28}                9           0.860684   \n",
      "28              29  {u'max_depth': 29}                6           0.860684   \n",
      "29              30  {u'max_depth': 30}                7           0.860684   \n",
      "\n",
      "    split0_train_score  split1_test_score       ...         split7_test_score  \\\n",
      "0             0.302160           0.280447       ...                  0.258601   \n",
      "1             0.512640           0.382982       ...                  0.390830   \n",
      "2             0.628054           0.432753       ...                  0.459948   \n",
      "3             0.667195           0.385324       ...                  0.508603   \n",
      "4             0.702026           0.371854       ...                  0.532262   \n",
      "5             0.744957           0.316216       ...                  0.558788   \n",
      "6             0.774251           0.461840       ...                  0.542578   \n",
      "7             0.799012           0.254445       ...                  0.529579   \n",
      "8             0.822342           0.391258       ...                  0.469477   \n",
      "9             0.849458           0.533358       ...                  0.427648   \n",
      "10            0.875703           0.354334       ...                  0.399998   \n",
      "11            0.905040           0.300447       ...                  0.417978   \n",
      "12            0.928575           0.435926       ...                  0.412595   \n",
      "13            0.949880           0.414136       ...                  0.398064   \n",
      "14            0.963415           0.290716       ...                  0.386690   \n",
      "15            0.974413           0.570946       ...                  0.398903   \n",
      "16            0.981577           0.356891       ...                  0.414323   \n",
      "17            0.986355           0.609251       ...                  0.314333   \n",
      "18            0.990328           0.452980       ...                  0.327238   \n",
      "19            0.992595           0.352062       ...                  0.316706   \n",
      "20            0.993957           0.349203       ...                  0.315035   \n",
      "21            0.994409           0.390553       ...                  0.325315   \n",
      "22            0.994535           0.637099       ...                  0.305177   \n",
      "23            0.994570           0.361366       ...                  0.307515   \n",
      "24            0.994607           0.535108       ...                  0.321623   \n",
      "25            0.994610           0.505860       ...                  0.300224   \n",
      "26            0.994610           0.526648       ...                  0.302559   \n",
      "27            0.994610           0.567159       ...                  0.307203   \n",
      "28            0.994610           0.569436       ...                  0.307203   \n",
      "29            0.994610           0.568936       ...                  0.307203   \n",
      "\n",
      "    split7_train_score  split8_test_score  split8_train_score  \\\n",
      "0             0.288449           0.325024            0.284621   \n",
      "1             0.536785           0.299766            0.544343   \n",
      "2             0.673261           0.511977            0.672585   \n",
      "3             0.708904           0.573126            0.705821   \n",
      "4             0.740891           0.619690            0.741042   \n",
      "5             0.766948           0.633483            0.765810   \n",
      "6             0.796558           0.640586            0.794029   \n",
      "7             0.825710           0.648471            0.819760   \n",
      "8             0.851505           0.650091            0.840119   \n",
      "9             0.875265           0.665517            0.861022   \n",
      "10            0.898886           0.644875            0.881735   \n",
      "11            0.918646           0.654131            0.901094   \n",
      "12            0.934359           0.662866            0.920501   \n",
      "13            0.948313           0.665154            0.936858   \n",
      "14            0.961515           0.650752            0.954767   \n",
      "15            0.970260           0.643555            0.968355   \n",
      "16            0.978402           0.651390            0.978155   \n",
      "17            0.985217           0.663119            0.984794   \n",
      "18            0.989745           0.685216            0.989958   \n",
      "19            0.991731           0.675658            0.992598   \n",
      "20            0.993550           0.677965            0.994433   \n",
      "21            0.994763           0.683249            0.995279   \n",
      "22            0.995277           0.670976            0.995468   \n",
      "23            0.995392           0.681372            0.995574   \n",
      "24            0.995459           0.663787            0.995626   \n",
      "25            0.995463           0.673948            0.995662   \n",
      "26            0.995464           0.674700            0.995664   \n",
      "27            0.995464           0.673631            0.995664   \n",
      "28            0.995464           0.673705            0.995664   \n",
      "29            0.995464           0.673705            0.995664   \n",
      "\n",
      "    split9_test_score  split9_train_score  std_fit_time  std_score_time  \\\n",
      "0            0.336288            0.284042      0.004978        0.002510   \n",
      "1            0.451289            0.534441      0.000067        0.000038   \n",
      "2            0.492810            0.673398      0.003149        0.000077   \n",
      "3            0.551032            0.708248      0.000442        0.000089   \n",
      "4            0.557610            0.740412      0.000066        0.000031   \n",
      "5            0.580768            0.766075      0.000083        0.000010   \n",
      "6            0.598448            0.796884      0.000637        0.000027   \n",
      "7            0.576387            0.821516      0.000544        0.000077   \n",
      "8            0.565622            0.843757      0.000109        0.000031   \n",
      "9            0.571937            0.863123      0.000089        0.000027   \n",
      "10           0.584973            0.884160      0.000698        0.000033   \n",
      "11           0.650351            0.904434      0.001622        0.000047   \n",
      "12           0.630317            0.925495      0.000913        0.000243   \n",
      "13           0.589794            0.944914      0.002089        0.000387   \n",
      "14           0.536401            0.959562      0.000055        0.000037   \n",
      "15           0.576379            0.971492      0.000113        0.000068   \n",
      "16           0.527593            0.979980      0.000904        0.000097   \n",
      "17           0.542157            0.984712      0.000318        0.000196   \n",
      "18           0.525561            0.988331      0.000631        0.000064   \n",
      "19           0.574693            0.991261      0.000415        0.000082   \n",
      "20           0.527751            0.993008      0.000435        0.000102   \n",
      "21           0.584640            0.994280      0.004014        0.000203   \n",
      "22           0.564614            0.994809      0.000573        0.000283   \n",
      "23           0.572993            0.995145      0.000504        0.000321   \n",
      "24           0.546139            0.995612      0.000860        0.000095   \n",
      "25           0.533903            0.995657      0.000821        0.000086   \n",
      "26           0.533903            0.995660      0.000193        0.000064   \n",
      "27           0.534136            0.995666      0.000137        0.000065   \n",
      "28           0.533821            0.995666      0.000288        0.000065   \n",
      "29           0.533821            0.995666      0.000477        0.000060   \n",
      "\n",
      "    std_test_score  std_train_score  \n",
      "0         0.048342         0.007790  \n",
      "1         0.092199         0.010874  \n",
      "2         0.121520         0.019564  \n",
      "3         0.124319         0.016169  \n",
      "4         0.126048         0.014520  \n",
      "5         0.133697         0.009610  \n",
      "6         0.105714         0.009072  \n",
      "7         0.148997         0.008702  \n",
      "8         0.127766         0.008287  \n",
      "9         0.111284         0.007392  \n",
      "10        0.140133         0.006404  \n",
      "11        0.149733         0.005299  \n",
      "12        0.130431         0.004241  \n",
      "13        0.134055         0.004371  \n",
      "14        0.161087         0.003344  \n",
      "15        0.115977         0.002857  \n",
      "16        0.146626         0.002789  \n",
      "17        0.140314         0.002263  \n",
      "18        0.142025         0.001903  \n",
      "19        0.158423         0.001350  \n",
      "20        0.164483         0.000903  \n",
      "21        0.153049         0.000570  \n",
      "22        0.135417         0.000412  \n",
      "23        0.156814         0.000312  \n",
      "24        0.136501         0.000309  \n",
      "25        0.143585         0.000310  \n",
      "26        0.141639         0.000312  \n",
      "27        0.137420         0.000320  \n",
      "28        0.137336         0.000324  \n",
      "29        0.137360         0.000324  \n",
      "\n",
      "[30 rows x 31 columns]\n",
      "Parameter 'max_depth' is 16 for the optimal model.\n"
     ]
    }
   ],
   "source": [
    "# 基于训练数据，获得最优模型\n",
    "optimal_reg = fit_model(X_train, y_train)\n",
    "\n",
    "# 输出最优模型的 'max_depth' 参数\n",
    "print \"Parameter 'max_depth' is {} for the optimal model.\".format(optimal_reg.get_params()['max_depth'])"
   ]
  },
  {
   "cell_type": "code",
   "execution_count": 20,
   "metadata": {},
   "outputs": [
    {
     "name": "stdout",
     "output_type": "stream",
     "text": [
      "Optimal model has R^2 score 0.51 on test data\n"
     ]
    }
   ],
   "source": [
    "# 提示：你可能需要用到 X_test, y_test, optimal_reg, performance_metric\n",
    "# 提示：你可能需要参考问题10的代码进行预测\n",
    "# 提示：你可能需要参考问题3的代码来计算R^2的值\n",
    "\n",
    "predicted_price = optimal_reg.predict(X_test.values)\n",
    "\n",
    "r2 = performance_metric(y_test.values, predicted_price)\n",
    "\n",
    "print \"Optimal model has R^2 score {:,.2f} on test data\".format(r2)"
   ]
  },
  {
   "cell_type": "markdown",
   "metadata": {},
   "source": [
    "模型表现并不是很好……"
   ]
  },
  {
   "cell_type": "markdown",
   "metadata": {},
   "source": [
    "### 问题14 - 北京房价预测\n",
    "你成功的用新的数据集构建了模型了吗？他能对测试数据进行验证吗？它的表现是否符合你的预期？交叉验证是否有助于提升你模型的表现？\n",
    "\n",
    "**提示：**如果你是从零开始构建机器学习的代码会让你一时觉得无从下手。这时不要着急，你要做的只是查看之前写的代码，把每一行都看明白，然后逐步构建你的模型。当中遇到什么问题也可以在我们论坛寻找答案。也许你会发现你所构建的模型的表现并没有达到你的预期，这说明机器学习并非是一项简单的任务，构建一个表现良好的模型需要长时间的研究和测试。这也是我们接下来的课程中会逐渐学到的。"
   ]
  },
  {
   "cell_type": "markdown",
   "metadata": {},
   "source": [
    "### 问题14 - 回答\n",
    "\n",
    "根据北京房价的训练数据构建的模型对测试数据进行验证的表现不太符合我的预期，交叉验证帮助提升了模型的表现。"
   ]
  }
 ],
 "metadata": {
  "kernelspec": {
   "display_name": "Python 2",
   "language": "python",
   "name": "python2"
  },
  "language_info": {
   "codemirror_mode": {
    "name": "ipython",
    "version": 2
   },
   "file_extension": ".py",
   "mimetype": "text/x-python",
   "name": "python",
   "nbconvert_exporter": "python",
   "pygments_lexer": "ipython2",
   "version": "2.7.13"
  }
 },
 "nbformat": 4,
 "nbformat_minor": 1
}
